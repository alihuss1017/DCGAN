{
 "cells": [
  {
   "cell_type": "markdown",
   "metadata": {},
   "source": [
    "### Importing Packages"
   ]
  },
  {
   "cell_type": "code",
   "execution_count": 12,
   "metadata": {},
   "outputs": [],
   "source": [
    "import torch\n",
    "import torch.nn as nn\n",
    "import numpy as np\n",
    "from torchvision import datasets"
   ]
  },
  {
   "cell_type": "markdown",
   "metadata": {},
   "source": [
    "### Initializing Dataset (Just going to use buildings for now)"
   ]
  },
  {
   "cell_type": "code",
   "execution_count": 13,
   "metadata": {},
   "outputs": [
    {
     "name": "stdout",
     "output_type": "stream",
     "text": [
      "['buildings', 'forest', 'glacier', 'mountain', 'sea', 'street']\n"
     ]
    }
   ],
   "source": [
    "dataset = datasets.ImageFolder(root = \"seg_train\")\n",
    "print(dataset.classes)\n"
   ]
  },
  {
   "cell_type": "code",
   "execution_count": 14,
   "metadata": {},
   "outputs": [],
   "source": [
    "target_class_idx = 0 # index for buildings\n",
    "filtered_dataset = [(image, label) for image, label in dataset if label == target_class_idx]"
   ]
  },
  {
   "cell_type": "markdown",
   "metadata": {},
   "source": [
    "### Generating Uniform Input"
   ]
  },
  {
   "cell_type": "code",
   "execution_count": 22,
   "metadata": {},
   "outputs": [],
   "source": [
    "noise_vectors = torch.randn(1, 100, 1, 1)"
   ]
  },
  {
   "cell_type": "markdown",
   "metadata": {},
   "source": [
    "### Designing the Generator Architecture"
   ]
  },
  {
   "cell_type": "code",
   "execution_count": 29,
   "metadata": {},
   "outputs": [
    {
     "name": "stdout",
     "output_type": "stream",
     "text": [
      "torch.Size([1, 256, 56, 56])\n"
     ]
    }
   ],
   "source": [
    "class NeuralNet(nn.Module):\n",
    "    def __init__(self,):\n",
    "        super(NeuralNet, self).__init__()\n",
    "        self.conv1 = nn.ConvTranspose2d(100, 1024, kernel_size = 4, stride = 1, padding = 0, bias = False)\n",
    "        self.bn1 = nn.BatchNorm2d(1024)\n",
    "        self.relu1 = nn.ReLU(inplace = True)\n",
    "\n",
    "        self.conv2 = nn.ConvTranspose2d(1024, 512, kernel_size = 8, stride = 2, padding = 1, bias = False)\n",
    "        self.bn2 = nn.BatchNorm2d(512)\n",
    "        self.relu2 = nn.ReLU(inplace = True)\n",
    "\n",
    "        self.conv3 = nn.ConvTranspose2d(512, 256, kernel_size = 16, stride = 4, padding = 2, bias = False)\n",
    "        \n",
    "    def forward(self, x):\n",
    "        print(self.conv3(self.conv2(self.conv1(x))).shape)\n",
    "        return self.conv2(self.conv1(x))\n",
    "    \n",
    "model = NeuralNet()\n",
    "output = model(noise_vectors)"
   ]
  },
  {
   "cell_type": "code",
   "execution_count": null,
   "metadata": {},
   "outputs": [],
   "source": []
  }
 ],
 "metadata": {
  "kernelspec": {
   "display_name": "myenv",
   "language": "python",
   "name": "python3"
  },
  "language_info": {
   "codemirror_mode": {
    "name": "ipython",
    "version": 3
   },
   "file_extension": ".py",
   "mimetype": "text/x-python",
   "name": "python",
   "nbconvert_exporter": "python",
   "pygments_lexer": "ipython3",
   "version": "3.11.4"
  },
  "orig_nbformat": 4
 },
 "nbformat": 4,
 "nbformat_minor": 2
}
